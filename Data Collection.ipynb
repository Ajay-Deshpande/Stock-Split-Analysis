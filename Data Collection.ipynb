{
 "cells": [
  {
   "cell_type": "code",
   "execution_count": 2,
   "id": "3cfed990",
   "metadata": {},
   "outputs": [],
   "source": [
    "import yfinance as yf\n",
    "import pandas as pd\n",
    "from selenium import webdriver\n",
    "from selenium.webdriver.common.by import By\n",
    "from io import StringIO\n",
    "from time import sleep"
   ]
  },
  {
   "cell_type": "code",
   "execution_count": 3,
   "id": "bebc3e4d",
   "metadata": {},
   "outputs": [],
   "source": [
    "def get_stock_data_all(stock_ticker):\n",
    "    ticker = yf.Ticker(stock_ticker)\n",
    "    price = ticker.history(period = 'max')[['Close', 'Volume', 'Dividends','Stock Splits']]\n",
    "    price['Stock'] = stock_ticker\n",
    "    dic = ticker.info\n",
    "    stock_details = {i : dic.get(i) for i in ['industryKey', 'sectorKey']}\n",
    "    stock_details['Stock'] = stock_ticker\n",
    "    stock_news = pd.DataFrame(ticker.news)[['title', 'publisher', 'link', 'type', 'providerPublishTime']]\n",
    "    stock_news['Stock'] = stock_ticker\n",
    "    return price, stock_details, stock_news"
   ]
  },
  {
   "cell_type": "code",
   "execution_count": 4,
   "id": "c8902655",
   "metadata": {},
   "outputs": [],
   "source": [
    "def get_macro_trends(ticker, stock_name, links):\n",
    "    dfs = pd.DataFrame()\n",
    "    driver = webdriver.Chrome()\n",
    "    marcotrends_url_prefix = \"https://www.macrotrends.net/stocks/charts\"\n",
    "    for link in links:\n",
    "        driver.get(link.format(**{'stock_ticker' : ticker, \"stock_name\" : stock_name,\n",
    "                                 \"marcotrends_url_prefix\" : marcotrends_url_prefix}))\n",
    "        sleep(2)\n",
    "        for table in driver.find_elements(By.TAG_NAME, \"table\"):\n",
    "            if 'Historical' in table.text or 'Quarterly' in table.text:\n",
    "                df = pd.read_html(StringIO(table.get_attribute('outerHTML')))[0]\n",
    "                try:\n",
    "                    df.columns = df.columns.droplevel(level = 0)\n",
    "                    df = df[['Date', links.get(link)]]\n",
    "                except:\n",
    "                    df.columns = ['Date', links.get(link)]\n",
    "                df = df.set_index('Date')\n",
    "                if dfs.empty:\n",
    "                    dfs = df\n",
    "                else:\n",
    "                    dfs = dfs.merge(df, left_index = True, right_index = True, how = 'outer')\n",
    "                dfs['Stock'] = ticker\n",
    "                break\n",
    "    driver.close()\n",
    "    return dfs"
   ]
  },
  {
   "cell_type": "code",
   "execution_count": 5,
   "id": "96531897",
   "metadata": {},
   "outputs": [],
   "source": [
    "# stock_ticker = 'AAPL'\n",
    "stock_ticker_map = {'AAPL' : 'apple', 'NVDA' : 'nvidia', 'AMD' : 'amd', \n",
    "                    \"WFC\" : \"wells-fargo\", \"JPM\" : \"jpmorgan-chase\"\n",
    "}\n",
    "\n",
    "links = {\"{marcotrends_url_prefix}/{stock_ticker}/{stock_name}/pe-ratio\" : 'PE Ratio',\n",
    "        \"{marcotrends_url_prefix}/{stock_ticker}/{stock_name}/eps-earnings-per-share-diluted\" : \"Quarterly EPS\",\n",
    "        \"{marcotrends_url_prefix}/{stock_ticker}/{stock_name}/price-book\" : 'Price to Book Ratio',\n",
    "        \"{marcotrends_url_prefix}/{stock_ticker}/{stock_name}/roe\" : \"Return on Equity\",\n",
    "        \"{marcotrends_url_prefix}/{stock_ticker}/{stock_name}/price-sales\" : \"Price to Sales Ratio\",\n",
    "        \"{marcotrends_url_prefix}/{stock_ticker}/{stock_name}/shares-outstanding\" : \"Quarterly Shares Outstanding\",\n",
    "        \"{marcotrends_url_prefix}/{stock_ticker}/{stock_name}/revenue\" : \"Quarterly Revenue\"\n",
    "}"
   ]
  },
  {
   "cell_type": "code",
   "execution_count": 6,
   "id": "1950280e",
   "metadata": {
    "scrolled": true
   },
   "outputs": [
    {
     "name": "stdout",
     "output_type": "stream",
     "text": [
      "AAPL\n"
     ]
    },
    {
     "name": "stderr",
     "output_type": "stream",
     "text": [
      "C:\\Users\\ajayd\\AppData\\Local\\Temp\\ipykernel_26920\\3637846283.py:11: FutureWarning: Passing literal html to 'read_html' is deprecated and will be removed in a future version. To read from a literal string, wrap it in a 'StringIO' object.\n",
      "  df = pd.read_html(table.get_attribute('outerHTML'))[0]\n",
      "C:\\Users\\ajayd\\AppData\\Local\\Temp\\ipykernel_26920\\3637846283.py:11: FutureWarning: Passing literal html to 'read_html' is deprecated and will be removed in a future version. To read from a literal string, wrap it in a 'StringIO' object.\n",
      "  df = pd.read_html(table.get_attribute('outerHTML'))[0]\n",
      "C:\\Users\\ajayd\\AppData\\Local\\Temp\\ipykernel_26920\\3637846283.py:11: FutureWarning: Passing literal html to 'read_html' is deprecated and will be removed in a future version. To read from a literal string, wrap it in a 'StringIO' object.\n",
      "  df = pd.read_html(table.get_attribute('outerHTML'))[0]\n",
      "C:\\Users\\ajayd\\AppData\\Local\\Temp\\ipykernel_26920\\3637846283.py:11: FutureWarning: Passing literal html to 'read_html' is deprecated and will be removed in a future version. To read from a literal string, wrap it in a 'StringIO' object.\n",
      "  df = pd.read_html(table.get_attribute('outerHTML'))[0]\n",
      "C:\\Users\\ajayd\\AppData\\Local\\Temp\\ipykernel_26920\\3637846283.py:11: FutureWarning: Passing literal html to 'read_html' is deprecated and will be removed in a future version. To read from a literal string, wrap it in a 'StringIO' object.\n",
      "  df = pd.read_html(table.get_attribute('outerHTML'))[0]\n",
      "C:\\Users\\ajayd\\AppData\\Local\\Temp\\ipykernel_26920\\3637846283.py:11: FutureWarning: Passing literal html to 'read_html' is deprecated and will be removed in a future version. To read from a literal string, wrap it in a 'StringIO' object.\n",
      "  df = pd.read_html(table.get_attribute('outerHTML'))[0]\n",
      "C:\\Users\\ajayd\\AppData\\Local\\Temp\\ipykernel_26920\\3637846283.py:11: FutureWarning: Passing literal html to 'read_html' is deprecated and will be removed in a future version. To read from a literal string, wrap it in a 'StringIO' object.\n",
      "  df = pd.read_html(table.get_attribute('outerHTML'))[0]\n"
     ]
    },
    {
     "name": "stdout",
     "output_type": "stream",
     "text": [
      "NVDA\n"
     ]
    },
    {
     "name": "stderr",
     "output_type": "stream",
     "text": [
      "C:\\Users\\ajayd\\AppData\\Local\\Temp\\ipykernel_26920\\3637846283.py:11: FutureWarning: Passing literal html to 'read_html' is deprecated and will be removed in a future version. To read from a literal string, wrap it in a 'StringIO' object.\n",
      "  df = pd.read_html(table.get_attribute('outerHTML'))[0]\n",
      "C:\\Users\\ajayd\\AppData\\Local\\Temp\\ipykernel_26920\\3637846283.py:11: FutureWarning: Passing literal html to 'read_html' is deprecated and will be removed in a future version. To read from a literal string, wrap it in a 'StringIO' object.\n",
      "  df = pd.read_html(table.get_attribute('outerHTML'))[0]\n",
      "C:\\Users\\ajayd\\AppData\\Local\\Temp\\ipykernel_26920\\3637846283.py:11: FutureWarning: Passing literal html to 'read_html' is deprecated and will be removed in a future version. To read from a literal string, wrap it in a 'StringIO' object.\n",
      "  df = pd.read_html(table.get_attribute('outerHTML'))[0]\n",
      "C:\\Users\\ajayd\\AppData\\Local\\Temp\\ipykernel_26920\\3637846283.py:11: FutureWarning: Passing literal html to 'read_html' is deprecated and will be removed in a future version. To read from a literal string, wrap it in a 'StringIO' object.\n",
      "  df = pd.read_html(table.get_attribute('outerHTML'))[0]\n",
      "C:\\Users\\ajayd\\AppData\\Local\\Temp\\ipykernel_26920\\3637846283.py:11: FutureWarning: Passing literal html to 'read_html' is deprecated and will be removed in a future version. To read from a literal string, wrap it in a 'StringIO' object.\n",
      "  df = pd.read_html(table.get_attribute('outerHTML'))[0]\n",
      "C:\\Users\\ajayd\\AppData\\Local\\Temp\\ipykernel_26920\\3637846283.py:11: FutureWarning: Passing literal html to 'read_html' is deprecated and will be removed in a future version. To read from a literal string, wrap it in a 'StringIO' object.\n",
      "  df = pd.read_html(table.get_attribute('outerHTML'))[0]\n",
      "C:\\Users\\ajayd\\AppData\\Local\\Temp\\ipykernel_26920\\3637846283.py:11: FutureWarning: Passing literal html to 'read_html' is deprecated and will be removed in a future version. To read from a literal string, wrap it in a 'StringIO' object.\n",
      "  df = pd.read_html(table.get_attribute('outerHTML'))[0]\n"
     ]
    },
    {
     "name": "stdout",
     "output_type": "stream",
     "text": [
      "AMD\n"
     ]
    },
    {
     "name": "stderr",
     "output_type": "stream",
     "text": [
      "C:\\Users\\ajayd\\AppData\\Local\\Temp\\ipykernel_26920\\3637846283.py:11: FutureWarning: Passing literal html to 'read_html' is deprecated and will be removed in a future version. To read from a literal string, wrap it in a 'StringIO' object.\n",
      "  df = pd.read_html(table.get_attribute('outerHTML'))[0]\n",
      "C:\\Users\\ajayd\\AppData\\Local\\Temp\\ipykernel_26920\\3637846283.py:11: FutureWarning: Passing literal html to 'read_html' is deprecated and will be removed in a future version. To read from a literal string, wrap it in a 'StringIO' object.\n",
      "  df = pd.read_html(table.get_attribute('outerHTML'))[0]\n",
      "C:\\Users\\ajayd\\AppData\\Local\\Temp\\ipykernel_26920\\3637846283.py:11: FutureWarning: Passing literal html to 'read_html' is deprecated and will be removed in a future version. To read from a literal string, wrap it in a 'StringIO' object.\n",
      "  df = pd.read_html(table.get_attribute('outerHTML'))[0]\n",
      "C:\\Users\\ajayd\\AppData\\Local\\Temp\\ipykernel_26920\\3637846283.py:11: FutureWarning: Passing literal html to 'read_html' is deprecated and will be removed in a future version. To read from a literal string, wrap it in a 'StringIO' object.\n",
      "  df = pd.read_html(table.get_attribute('outerHTML'))[0]\n",
      "C:\\Users\\ajayd\\AppData\\Local\\Temp\\ipykernel_26920\\3637846283.py:11: FutureWarning: Passing literal html to 'read_html' is deprecated and will be removed in a future version. To read from a literal string, wrap it in a 'StringIO' object.\n",
      "  df = pd.read_html(table.get_attribute('outerHTML'))[0]\n",
      "C:\\Users\\ajayd\\AppData\\Local\\Temp\\ipykernel_26920\\3637846283.py:11: FutureWarning: Passing literal html to 'read_html' is deprecated and will be removed in a future version. To read from a literal string, wrap it in a 'StringIO' object.\n",
      "  df = pd.read_html(table.get_attribute('outerHTML'))[0]\n",
      "C:\\Users\\ajayd\\AppData\\Local\\Temp\\ipykernel_26920\\3637846283.py:11: FutureWarning: Passing literal html to 'read_html' is deprecated and will be removed in a future version. To read from a literal string, wrap it in a 'StringIO' object.\n",
      "  df = pd.read_html(table.get_attribute('outerHTML'))[0]\n"
     ]
    },
    {
     "name": "stdout",
     "output_type": "stream",
     "text": [
      "WFC\n"
     ]
    },
    {
     "name": "stderr",
     "output_type": "stream",
     "text": [
      "C:\\Users\\ajayd\\AppData\\Local\\Temp\\ipykernel_26920\\3637846283.py:11: FutureWarning: Passing literal html to 'read_html' is deprecated and will be removed in a future version. To read from a literal string, wrap it in a 'StringIO' object.\n",
      "  df = pd.read_html(table.get_attribute('outerHTML'))[0]\n",
      "C:\\Users\\ajayd\\AppData\\Local\\Temp\\ipykernel_26920\\3637846283.py:11: FutureWarning: Passing literal html to 'read_html' is deprecated and will be removed in a future version. To read from a literal string, wrap it in a 'StringIO' object.\n",
      "  df = pd.read_html(table.get_attribute('outerHTML'))[0]\n",
      "C:\\Users\\ajayd\\AppData\\Local\\Temp\\ipykernel_26920\\3637846283.py:11: FutureWarning: Passing literal html to 'read_html' is deprecated and will be removed in a future version. To read from a literal string, wrap it in a 'StringIO' object.\n",
      "  df = pd.read_html(table.get_attribute('outerHTML'))[0]\n",
      "C:\\Users\\ajayd\\AppData\\Local\\Temp\\ipykernel_26920\\3637846283.py:11: FutureWarning: Passing literal html to 'read_html' is deprecated and will be removed in a future version. To read from a literal string, wrap it in a 'StringIO' object.\n",
      "  df = pd.read_html(table.get_attribute('outerHTML'))[0]\n",
      "C:\\Users\\ajayd\\AppData\\Local\\Temp\\ipykernel_26920\\3637846283.py:11: FutureWarning: Passing literal html to 'read_html' is deprecated and will be removed in a future version. To read from a literal string, wrap it in a 'StringIO' object.\n",
      "  df = pd.read_html(table.get_attribute('outerHTML'))[0]\n",
      "C:\\Users\\ajayd\\AppData\\Local\\Temp\\ipykernel_26920\\3637846283.py:11: FutureWarning: Passing literal html to 'read_html' is deprecated and will be removed in a future version. To read from a literal string, wrap it in a 'StringIO' object.\n",
      "  df = pd.read_html(table.get_attribute('outerHTML'))[0]\n",
      "C:\\Users\\ajayd\\AppData\\Local\\Temp\\ipykernel_26920\\3637846283.py:11: FutureWarning: Passing literal html to 'read_html' is deprecated and will be removed in a future version. To read from a literal string, wrap it in a 'StringIO' object.\n",
      "  df = pd.read_html(table.get_attribute('outerHTML'))[0]\n"
     ]
    },
    {
     "name": "stdout",
     "output_type": "stream",
     "text": [
      "JPM\n"
     ]
    },
    {
     "name": "stderr",
     "output_type": "stream",
     "text": [
      "C:\\Users\\ajayd\\AppData\\Local\\Temp\\ipykernel_26920\\3637846283.py:11: FutureWarning: Passing literal html to 'read_html' is deprecated and will be removed in a future version. To read from a literal string, wrap it in a 'StringIO' object.\n",
      "  df = pd.read_html(table.get_attribute('outerHTML'))[0]\n",
      "C:\\Users\\ajayd\\AppData\\Local\\Temp\\ipykernel_26920\\3637846283.py:11: FutureWarning: Passing literal html to 'read_html' is deprecated and will be removed in a future version. To read from a literal string, wrap it in a 'StringIO' object.\n",
      "  df = pd.read_html(table.get_attribute('outerHTML'))[0]\n",
      "C:\\Users\\ajayd\\AppData\\Local\\Temp\\ipykernel_26920\\3637846283.py:11: FutureWarning: Passing literal html to 'read_html' is deprecated and will be removed in a future version. To read from a literal string, wrap it in a 'StringIO' object.\n",
      "  df = pd.read_html(table.get_attribute('outerHTML'))[0]\n",
      "C:\\Users\\ajayd\\AppData\\Local\\Temp\\ipykernel_26920\\3637846283.py:11: FutureWarning: Passing literal html to 'read_html' is deprecated and will be removed in a future version. To read from a literal string, wrap it in a 'StringIO' object.\n",
      "  df = pd.read_html(table.get_attribute('outerHTML'))[0]\n",
      "C:\\Users\\ajayd\\AppData\\Local\\Temp\\ipykernel_26920\\3637846283.py:11: FutureWarning: Passing literal html to 'read_html' is deprecated and will be removed in a future version. To read from a literal string, wrap it in a 'StringIO' object.\n",
      "  df = pd.read_html(table.get_attribute('outerHTML'))[0]\n",
      "C:\\Users\\ajayd\\AppData\\Local\\Temp\\ipykernel_26920\\3637846283.py:11: FutureWarning: Passing literal html to 'read_html' is deprecated and will be removed in a future version. To read from a literal string, wrap it in a 'StringIO' object.\n",
      "  df = pd.read_html(table.get_attribute('outerHTML'))[0]\n",
      "C:\\Users\\ajayd\\AppData\\Local\\Temp\\ipykernel_26920\\3637846283.py:11: FutureWarning: Passing literal html to 'read_html' is deprecated and will be removed in a future version. To read from a literal string, wrap it in a 'StringIO' object.\n",
      "  df = pd.read_html(table.get_attribute('outerHTML'))[0]\n"
     ]
    }
   ],
   "source": [
    "fundamentals_df = pd.DataFrame()\n",
    "price_df = pd.DataFrame()\n",
    "details_df = pd.DataFrame()\n",
    "news_df = pd.DataFrame()\n",
    "\n",
    "for stock_ticker, stock_name in stock_ticker_map.items():\n",
    "    print(stock_ticker)\n",
    "    dfs = get_macro_trends(stock_ticker.replace('.','-'), stock_name, links)\n",
    "    fundamentals_df = pd.concat([fundamentals_df, dfs])\n",
    "    lst = get_stock_data_all(stock_ticker)\n",
    "    price_df = pd.concat([price_df, lst[0]])\n",
    "    details_df = pd.concat([details_df, pd.DataFrame([lst[1]])])\n",
    "    news_df = pd.concat([news_df, lst[2]])"
   ]
  },
  {
   "cell_type": "code",
   "execution_count": 8,
   "id": "8b3e7bb8",
   "metadata": {},
   "outputs": [],
   "source": [
    "fundamentals_df.to_csv('Financials.csv')\n",
    "details_df.to_csv('Info.csv', index = False)\n",
    "news_df.to_csv('News.csv', index = False)\n",
    "price_df.to_csv('Stock_Price.csv')"
   ]
  },
  {
   "cell_type": "code",
   "execution_count": null,
   "id": "0cb352c7",
   "metadata": {},
   "outputs": [],
   "source": []
  }
 ],
 "metadata": {
  "kernelspec": {
   "display_name": "Python 3 (ipykernel)",
   "language": "python",
   "name": "python3"
  },
  "language_info": {
   "codemirror_mode": {
    "name": "ipython",
    "version": 3
   },
   "file_extension": ".py",
   "mimetype": "text/x-python",
   "name": "python",
   "nbconvert_exporter": "python",
   "pygments_lexer": "ipython3",
   "version": "3.11.5"
  }
 },
 "nbformat": 4,
 "nbformat_minor": 5
}
