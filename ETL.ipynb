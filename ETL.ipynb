{
 "cells": [
  {
   "cell_type": "code",
   "execution_count": 1,
   "id": "caf11eed",
   "metadata": {},
   "outputs": [],
   "source": [
    "import pandas as pd\n",
    "from datetime import datetime"
   ]
  },
  {
   "cell_type": "code",
   "execution_count": 2,
   "id": "8cf54fc0",
   "metadata": {},
   "outputs": [],
   "source": [
    "fin_df = pd.read_csv('Financials.csv')"
   ]
  },
  {
   "cell_type": "code",
   "execution_count": 4,
   "id": "9cd6bcaf",
   "metadata": {},
   "outputs": [],
   "source": [
    "fin_df.columns = ['Date', 'PE Ratio', 'Stock', 'EPS', 'PB Ratio', 'ROE (%)', 'PS Ratio', 'Shares Outstanding (M)', 'Revenue (M)']"
   ]
  },
  {
   "cell_type": "code",
   "execution_count": 8,
   "id": "bcd013ab",
   "metadata": {},
   "outputs": [],
   "source": [
    "fin_columns = ['EPS', 'ROE (%)', 'Revenue (M)']\n",
    "fin_df[fin_columns] = fin_df[fin_columns].apply(lambda x : x.str.replace('[^0-9.]', '', regex = True).astype(float))"
   ]
  },
  {
   "cell_type": "code",
   "execution_count": 31,
   "id": "53ab23ac",
   "metadata": {
    "scrolled": true
   },
   "outputs": [],
   "source": [
    "news_df = pd.read_csv('News.csv')\n",
    "news_df['providerPublishTime'] = news_df['providerPublishTime'].apply(datetime.fromtimestamp)"
   ]
  },
  {
   "cell_type": "code",
   "execution_count": 34,
   "id": "05b637e8",
   "metadata": {},
   "outputs": [],
   "source": [
    "stock_df = pd.read_csv('Stock_Price.csv')"
   ]
  },
  {
   "cell_type": "code",
   "execution_count": 40,
   "id": "f19d87c4",
   "metadata": {},
   "outputs": [],
   "source": [
    "dividend_dates = stock_df[stock_df.Dividends != 0][['stock', 'Date', 'Dividends']]\n",
    "stock_splits = stock_df[stock_df['Stock Splits'] != 0][['stock', 'Date', 'Stock Splits']]"
   ]
  },
  {
   "cell_type": "code",
   "execution_count": 44,
   "id": "2acce10d",
   "metadata": {},
   "outputs": [],
   "source": [
    "stock_df[['Dividends', 'Stock Splits']] = stock_df[['Dividends', 'Stock Splits']].astype(bool)"
   ]
  },
  {
   "cell_type": "code",
   "execution_count": 45,
   "id": "fe21acb8",
   "metadata": {},
   "outputs": [],
   "source": [
    "stock_df.to_csv('Stock_Price.csv', index = False)\n",
    "dividend_dates.to_csv('Dividends.csv', index = False)\n",
    "stock_splits.to_csv('Stock_Splits.csv', index = False)"
   ]
  },
  {
   "cell_type": "code",
   "execution_count": null,
   "id": "b2e5d751",
   "metadata": {},
   "outputs": [],
   "source": []
  }
 ],
 "metadata": {
  "kernelspec": {
   "display_name": "Python 3 (ipykernel)",
   "language": "python",
   "name": "python3"
  },
  "language_info": {
   "codemirror_mode": {
    "name": "ipython",
    "version": 3
   },
   "file_extension": ".py",
   "mimetype": "text/x-python",
   "name": "python",
   "nbconvert_exporter": "python",
   "pygments_lexer": "ipython3",
   "version": "3.11.5"
  }
 },
 "nbformat": 4,
 "nbformat_minor": 5
}
