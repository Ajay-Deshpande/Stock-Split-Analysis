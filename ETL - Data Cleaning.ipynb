{
 "cells": [
  {
   "cell_type": "code",
   "execution_count": 1,
   "id": "caf11eed",
   "metadata": {},
   "outputs": [],
   "source": [
    "import pandas as pd\n",
    "from datetime import datetime"
   ]
  },
  {
   "cell_type": "code",
   "execution_count": 64,
   "id": "bcd013ab",
   "metadata": {},
   "outputs": [],
   "source": [
    "fin_df = pd.read_csv('Financials.csv')\n",
    "\n",
    "fin_df.columns = ['Date', 'PE Ratio', 'Stock', 'EPS', 'PB Ratio', 'ROE (%)', 'PS Ratio', 'Shares Outstanding (M)', 'Revenue (M)']\n",
    "fin_columns = ['EPS', 'ROE (%)', 'Revenue (M)']\n",
    "fin_df[fin_columns] = fin_df[fin_columns].apply(lambda x : x.str.replace('[^0-9.]', '', regex = True).astype(float))\n",
    "fin_df['Date'] = pd.to_datetime(fin_df.Date, utc = True).dt.date"
   ]
  },
  {
   "cell_type": "code",
   "execution_count": 65,
   "id": "53ab23ac",
   "metadata": {
    "scrolled": true
   },
   "outputs": [],
   "source": [
    "news_df = pd.read_csv('News.csv')\n",
    "news_df['providerPublishTime'] = pd.to_datetime(news_df['providerPublishTime'].apply(datetime.fromtimestamp), utc = True).dt.date"
   ]
  },
  {
   "cell_type": "code",
   "execution_count": 66,
   "id": "f19d87c4",
   "metadata": {},
   "outputs": [],
   "source": [
    "stock_df = pd.read_csv('Stock_Price.csv')\n",
    "stock_df[\"Date\"] = pd.to_datetime(stock_df.Date, utc = True).dt.date"
   ]
  },
  {
   "cell_type": "code",
   "execution_count": 67,
   "id": "6bc8af15",
   "metadata": {},
   "outputs": [],
   "source": [
    "info_df = pd.read_csv('info.csv')"
   ]
  },
  {
   "cell_type": "code",
   "execution_count": 79,
   "id": "a9b8b161",
   "metadata": {},
   "outputs": [],
   "source": [
    "final_df = info_df.merge(stock_df, on = 'Stock')\n",
    "final_df  = final_df.merge(fin_df, on = ['Date', 'Stock'], how = 'left')\n",
    "final_df = final_df.sort_values(['Stock', 'Date'])\n",
    "final_df[fin_df.columns] = final_df[fin_df.columns].ffill()\n",
    "final_df = final_df.merge(news_df, left_on = ['Date', 'Stock'], right_on = ['providerPublishTime', 'Stock'], how = 'left')"
   ]
  },
  {
   "cell_type": "code",
   "execution_count": 81,
   "id": "fe21acb8",
   "metadata": {},
   "outputs": [],
   "source": [
    "final_df.to_csv('data_warehouse.csv', index = False)\n",
    "news_df.to_csv('News.csv', index = False)\n",
    "stock_df.to_csv('Stock_Price.csv', index = False)"
   ]
  },
  {
   "cell_type": "code",
   "execution_count": null,
   "id": "b2e5d751",
   "metadata": {},
   "outputs": [],
   "source": []
  }
 ],
 "metadata": {
  "kernelspec": {
   "display_name": "Python 3 (ipykernel)",
   "language": "python",
   "name": "python3"
  },
  "language_info": {
   "codemirror_mode": {
    "name": "ipython",
    "version": 3
   },
   "file_extension": ".py",
   "mimetype": "text/x-python",
   "name": "python",
   "nbconvert_exporter": "python",
   "pygments_lexer": "ipython3",
   "version": "3.11.5"
  }
 },
 "nbformat": 4,
 "nbformat_minor": 5
}
