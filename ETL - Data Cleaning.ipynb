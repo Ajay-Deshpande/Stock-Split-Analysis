{
 "cells": [
  {
   "cell_type": "code",
   "execution_count": 1,
   "id": "caf11eed",
   "metadata": {},
   "outputs": [],
   "source": [
    "import pandas as pd\n",
    "from datetime import datetime"
   ]
  },
  {
   "cell_type": "code",
   "execution_count": 2,
   "id": "bcd013ab",
   "metadata": {},
   "outputs": [],
   "source": [
    "fin_df = pd.read_csv('Financials.csv')\n",
    "\n",
    "fin_df.columns = ['Date', 'PE Ratio', 'Stock', 'EPS', 'PB Ratio', 'ROE (%)', 'PS Ratio', 'Shares Outstanding (M)', 'Revenue (M)']\n",
    "fin_columns = ['EPS', 'ROE (%)', 'Revenue (M)']\n",
    "fin_df[fin_columns] = fin_df[fin_columns].apply(lambda x : x.str.replace('[^0-9.]', '', regex = True).astype(float))\n",
    "fin_df['Date'] = pd.to_datetime(fin_df.Date, utc = True).dt.date"
   ]
  },
  {
   "cell_type": "code",
   "execution_count": 3,
   "id": "f19d87c4",
   "metadata": {},
   "outputs": [],
   "source": [
    "stock_df = pd.read_csv('Stock_Price.csv')\n",
    "stock_df[\"Date\"] = pd.to_datetime(stock_df.Date, utc = True).dt.date"
   ]
  },
  {
   "cell_type": "code",
   "execution_count": 4,
   "id": "6bc8af15",
   "metadata": {},
   "outputs": [],
   "source": [
    "info_df = pd.read_csv('info.csv')"
   ]
  },
  {
   "cell_type": "code",
   "execution_count": 5,
   "id": "a9b8b161",
   "metadata": {},
   "outputs": [],
   "source": [
    "final_df = info_df.merge(stock_df, on = 'Stock')\n",
    "final_df  = final_df.merge(fin_df, on = ['Date', 'Stock'], how = 'left')\n",
    "final_df = final_df.sort_values(['Stock', 'Date'])\n",
    "# final_df[fin_df.columns] = final_df[fin_df.columns].ffill()"
   ]
  },
  {
   "cell_type": "code",
   "execution_count": 8,
   "id": "fe21acb8",
   "metadata": {},
   "outputs": [],
   "source": [
    "final_df.to_csv('data_warehouse.csv', index = False)\n",
    "stock_df.to_csv('Stock_Price.csv', index = False)"
   ]
  },
  {
   "cell_type": "code",
   "execution_count": 9,
   "id": "00a46dc0",
   "metadata": {},
   "outputs": [],
   "source": [
    "news_df = pd.read_csv('News.csv')\n",
    "news_df['providerPublishTime'] = pd.to_datetime(news_df['providerPublishTime'].apply(datetime.fromtimestamp), utc = True).dt.date\n",
    "news_df.to_csv('News.csv', index = False)"
   ]
  },
  {
   "cell_type": "code",
   "execution_count": 13,
   "id": "270a2421",
   "metadata": {},
   "outputs": [
    {
     "data": {
      "text/plain": [
       "['industryKey',\n",
       " 'sectorKey',\n",
       " 'Stock',\n",
       " 'Date',\n",
       " 'Close',\n",
       " 'Volume',\n",
       " 'Dividends',\n",
       " 'Stock Splits',\n",
       " 'PE Ratio',\n",
       " 'EPS',\n",
       " 'PB Ratio',\n",
       " 'ROE (%)',\n",
       " 'PS Ratio',\n",
       " 'Shares Outstanding (M)',\n",
       " 'Revenue (M)']"
      ]
     },
     "execution_count": 13,
     "metadata": {},
     "output_type": "execute_result"
    }
   ],
   "source": [
    "final_df.columns.tolist()"
   ]
  },
  {
   "cell_type": "code",
   "execution_count": 14,
   "id": "2f4b4e4d",
   "metadata": {},
   "outputs": [
    {
     "data": {
      "text/plain": [
       "Stock\n",
       "AAPL    43\n",
       "AMD     43\n",
       "JPM     43\n",
       "NVDA    41\n",
       "WFC     43\n",
       "Name: Revenue (M), dtype: int64"
      ]
     },
     "execution_count": 14,
     "metadata": {},
     "output_type": "execute_result"
    }
   ],
   "source": [
    "final_df.groupby('Stock')['Revenue (M)'].count()"
   ]
  },
  {
   "cell_type": "code",
   "execution_count": null,
   "id": "83a14298",
   "metadata": {},
   "outputs": [],
   "source": []
  }
 ],
 "metadata": {
  "kernelspec": {
   "display_name": "Python 3 (ipykernel)",
   "language": "python",
   "name": "python3"
  },
  "language_info": {
   "codemirror_mode": {
    "name": "ipython",
    "version": 3
   },
   "file_extension": ".py",
   "mimetype": "text/x-python",
   "name": "python",
   "nbconvert_exporter": "python",
   "pygments_lexer": "ipython3",
   "version": "3.11.5"
  }
 },
 "nbformat": 4,
 "nbformat_minor": 5
}
